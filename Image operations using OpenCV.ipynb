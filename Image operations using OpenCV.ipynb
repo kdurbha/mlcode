{
 "cells": [
  {
   "cell_type": "code",
   "execution_count": 2,
   "metadata": {},
   "outputs": [
    {
     "name": "stdout",
     "output_type": "stream",
     "text": [
      "(1485, 990)\n",
      "(742, 495)\n"
     ]
    }
   ],
   "source": [
    "# Sample Computer Vision example from Udemy python course\n",
    "# Using opencv libraries\n",
    "# Import image with 0 ie. Greyscale\n",
    "# Resize to half the height & width\n",
    "\n",
    "import cv2\n",
    "\n",
    "img=cv2.imread(\"galaxy.jpg\",0)\n",
    "print(img.shape)\n",
    "\n",
    "resized_img=cv2.resize(img,(int(img.shape[1]/2),int(img.shape[0]/2)))\n",
    "print(resized_img.shape)"
   ]
  },
  {
   "cell_type": "code",
   "execution_count": null,
   "metadata": {},
   "outputs": [],
   "source": [
    "# Image is stored as a 2D numpy array of pixel intensity. Higher number means darker\n",
    "# Write to folder & also show the image in a seperate window till shut down\n",
    "cv2.imwrite(\"Galaxy_resized.jpg\",resized_img)\n",
    "#cv2.imshow(\"Galaxy\",resized_img)\n",
    "#cv2.waitKey(0)\n",
    "#cv2.destroyAllWindows()"
   ]
  },
  {
   "cell_type": "code",
   "execution_count": null,
   "metadata": {},
   "outputs": [],
   "source": [
    "# Exercise to resize all images in the folder into a 100x100 size\n",
    "import cv2\n",
    "import glob\n",
    "\n",
    "images=glob.glob(\"*.jpg\")\n",
    "\n",
    "for image in images:\n",
    "    img=cv2.imread(image,0)\n",
    "    re=cv2.resize(img,(100,100))\n",
    "    #cv2.imshow(\"Hey\",re)\n",
    "    #cv2.waitKey(0)\n",
    "    #cv2.destroyAllWindows()\n",
    "    cv2.imwrite(\"resized_\"+image,re)"
   ]
  },
  {
   "cell_type": "code",
   "execution_count": null,
   "metadata": {},
   "outputs": [],
   "source": []
  }
 ],
 "metadata": {
  "kernelspec": {
   "display_name": "Python 3",
   "language": "python",
   "name": "python3"
  },
  "language_info": {
   "codemirror_mode": {
    "name": "ipython",
    "version": 3
   },
   "file_extension": ".py",
   "mimetype": "text/x-python",
   "name": "python",
   "nbconvert_exporter": "python",
   "pygments_lexer": "ipython3",
   "version": "3.8.0"
  }
 },
 "nbformat": 4,
 "nbformat_minor": 4
}
