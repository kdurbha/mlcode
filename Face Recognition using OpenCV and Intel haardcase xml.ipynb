{
 "cells": [
  {
   "cell_type": "code",
   "execution_count": 1,
   "metadata": {},
   "outputs": [],
   "source": [
    "import cv2\n",
    "\n",
    "face_cascade=cv2.CascadeClassifier(\"/Users/durbht1/Pythonpractice/program_examples/haarcascade_frontalface_default.xml\")\n",
    "\n",
    "img=cv2.imread(\"photo.jpg\")\n",
    "gray_img=cv2.cvtColor(img,cv2.COLOR_BGR2GRAY)"
   ]
  },
  {
   "cell_type": "code",
   "execution_count": 2,
   "metadata": {},
   "outputs": [
    {
     "name": "stdout",
     "output_type": "stream",
     "text": [
      "<class 'numpy.ndarray'>\n",
      "[[157  84 379 379]]\n"
     ]
    }
   ],
   "source": [
    "# Use face cascade to analyse the impage pixels for the border coordinates of a face border\n",
    "# USe scale factor of 1.05 for iterative reduced scaling to find border\n",
    "faces=face_cascade.detectMultiScale(gray_img, \n",
    "scaleFactor=1.05,\n",
    "minNeighbors=5)\n",
    "\n",
    "print(type(faces))\n",
    "print(faces)"
   ]
  },
  {
   "cell_type": "code",
   "execution_count": null,
   "metadata": {},
   "outputs": [],
   "source": [
    "# Draw the green (0,255,0) borders on the image for pictorial reference with border thickness 3\n",
    "for x,y,w,h in faces:\n",
    "    img=cv2.rectangle(img,(x,y),(x+w,y+h),(0,255,0),3)\n",
    "\n",
    "# Display theimage. Since in mac OS python cv2 has error in not closing display window!! So we will comment this out\n",
    "#cv2.imshow(\"Gray\",img)\n",
    "#cv2.waitKey(0)\n",
    "#cv2.destroyAllWindows()\n"
   ]
  },
  {
   "cell_type": "code",
   "execution_count": null,
   "metadata": {},
   "outputs": [],
   "source": []
  }
 ],
 "metadata": {
  "kernelspec": {
   "display_name": "Python 3",
   "language": "python",
   "name": "python3"
  },
  "language_info": {
   "codemirror_mode": {
    "name": "ipython",
    "version": 3
   },
   "file_extension": ".py",
   "mimetype": "text/x-python",
   "name": "python",
   "nbconvert_exporter": "python",
   "pygments_lexer": "ipython3",
   "version": "3.8.0"
  }
 },
 "nbformat": 4,
 "nbformat_minor": 4
}
