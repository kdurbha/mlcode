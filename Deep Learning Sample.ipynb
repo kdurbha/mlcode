{
 "cells": [
  {
   "cell_type": "code",
   "execution_count": 1,
   "metadata": {},
   "outputs": [
    {
     "ename": "ModuleNotFoundError",
     "evalue": "No module named 'tensorflow'",
     "output_type": "error",
     "traceback": [
      "\u001b[0;31m---------------------------------------------------------------------------\u001b[0m",
      "\u001b[0;31mModuleNotFoundError\u001b[0m                       Traceback (most recent call last)",
      "\u001b[0;32m<ipython-input-1-0fb4a7e0a64d>\u001b[0m in \u001b[0;36m<module>\u001b[0;34m\u001b[0m\n\u001b[1;32m      5\u001b[0m \u001b[0;32mfrom\u001b[0m \u001b[0m__future__\u001b[0m \u001b[0;32mimport\u001b[0m \u001b[0mprint_function\u001b[0m\u001b[0;34m\u001b[0m\u001b[0;34m\u001b[0m\u001b[0m\n\u001b[1;32m      6\u001b[0m \u001b[0;34m\u001b[0m\u001b[0m\n\u001b[0;32m----> 7\u001b[0;31m \u001b[0;32mimport\u001b[0m \u001b[0mtensorflow\u001b[0m \u001b[0;32mas\u001b[0m \u001b[0mtf\u001b[0m\u001b[0;34m\u001b[0m\u001b[0;34m\u001b[0m\u001b[0m\n\u001b[0m\u001b[1;32m      8\u001b[0m \u001b[0;32mimport\u001b[0m \u001b[0mtensorflow\u001b[0m\u001b[0;34m.\u001b[0m\u001b[0mcontrib\u001b[0m\u001b[0;34m.\u001b[0m\u001b[0mlearn\u001b[0m \u001b[0;32mas\u001b[0m \u001b[0mlearn\u001b[0m\u001b[0;34m\u001b[0m\u001b[0;34m\u001b[0m\u001b[0m\n\u001b[1;32m      9\u001b[0m \u001b[0;34m\u001b[0m\u001b[0m\n",
      "\u001b[0;31mModuleNotFoundError\u001b[0m: No module named 'tensorflow'"
     ]
    }
   ],
   "source": [
    "''' Demonstrates deep learning using TensorFlow and fully connected layers '''\n",
    "\n",
    "from __future__ import absolute_import\n",
    "from __future__ import division\n",
    "from __future__ import print_function\n",
    "\n",
    "import tensorflow as tf\n",
    "import tensorflow.contrib.learn as learn\n",
    "\n",
    "# Read MNIST data\n",
    "dataset = learn.datasets.mnist.read_data_sets('MNIST-data', one_hot=True)\n",
    "\n",
    "# Placeholders for MNIST images\n",
    "img_holder = tf.placeholder(tf.float32, [None, 784])\n",
    "lbl_holder = tf.placeholder(tf.float32, [None, 10])\n",
    "\n",
    "# Layer settings\n",
    "hid_nodes = 200\n",
    "out_nodes = 10\n",
    "\n",
    "# Define weights\n",
    "w0 = tf.Variable(tf.random_normal([784, hid_nodes]))\n",
    "w1 = tf.Variable(tf.random_normal([hid_nodes, hid_nodes]))\n",
    "w2 = tf.Variable(tf.random_normal([hid_nodes, hid_nodes]))\n",
    "w3 = tf.Variable(tf.random_normal([hid_nodes, out_nodes]))\n",
    "\n",
    "# Define biases\n",
    "b0 = tf.Variable(tf.random_normal([hid_nodes]))\n",
    "b1 = tf.Variable(tf.random_normal([hid_nodes]))\n",
    "b2 = tf.Variable(tf.random_normal([hid_nodes]))\n",
    "b3 = tf.Variable(tf.random_normal([out_nodes]))\n",
    "\n",
    "# Create layers\n",
    "layer_1 = tf.add(tf.matmul(img_holder, w0), b0)\n",
    "layer_1 = tf.nn.relu(layer_1)\n",
    "layer_2 = tf.add(tf.matmul(layer_1, w1), b1)\n",
    "layer_2 = tf.nn.relu(layer_2)\n",
    "layer_3 = tf.add(tf.matmul(layer_2, w2), b2)\n",
    "layer_3 = tf.nn.relu(layer_3)\n",
    "out_layer = tf.matmul(layer_3, w3) + b3\n",
    "\n",
    "# Compute loss\n",
    "loss = tf.reduce_mean(\n",
    "    tf.nn.softmax_cross_entropy_with_logits(\n",
    "        logits=out_layer, labels=lbl_holder))\n",
    "\n",
    "# Create optimizer\n",
    "learning_rate = 0.01\n",
    "num_epochs = 15\n",
    "batch_size = 100\n",
    "num_batches = int(dataset.train.num_examples/batch_size)\n",
    "optimizer = tf.train.AdamOptimizer(learning_rate).minimize(loss)\n",
    "\n",
    "# Initialize variables\n",
    "init = tf.global_variables_initializer()\n",
    "\n",
    "# Launch session\n",
    "with tf.Session() as sess:\n",
    "    sess.run(init)\n",
    "\n",
    "    # Loop over epochs\n",
    "    for epoch in range(num_epochs):\n",
    "\n",
    "        # Loop over batches\n",
    "        for batch in range(num_batches):\n",
    "            img_batch, lbl_batch = dataset.train.next_batch(batch_size)\n",
    "            sess.run(optimizer, feed_dict={img_holder: img_batch,\n",
    "                lbl_holder: lbl_batch})\n",
    "\n",
    "    # Determine success rate\n",
    "    prediction = tf.equal(tf.argmax(out_layer, 1), tf.argmax(lbl_holder, 1))\n",
    "    success = tf.reduce_mean(tf.cast(prediction, tf.float32))\n",
    "    print('Success rate: ', sess.run(success,\n",
    "        feed_dict={img_holder: dataset.test.images,\n",
    "            lbl_holder: dataset.test.labels}))"
   ]
  },
  {
   "cell_type": "code",
   "execution_count": null,
   "metadata": {},
   "outputs": [],
   "source": []
  }
 ],
 "metadata": {
  "kernelspec": {
   "display_name": "Python 3",
   "language": "python",
   "name": "python3"
  },
  "language_info": {
   "codemirror_mode": {
    "name": "ipython",
    "version": 3
   },
   "file_extension": ".py",
   "mimetype": "text/x-python",
   "name": "python",
   "nbconvert_exporter": "python",
   "pygments_lexer": "ipython3",
   "version": "3.8.0"
  }
 },
 "nbformat": 4,
 "nbformat_minor": 4
}
