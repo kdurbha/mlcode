{
 "cells": [
  {
   "cell_type": "code",
   "execution_count": 1,
   "metadata": {},
   "outputs": [],
   "source": [
    "# Fom Udemy course on OpenCV, SSD & GAN\n",
    "# https://www.superdatascience.com/pages/computer-vision\n",
    "# Module 1 Homework for Smile detection using Haarcascade_smile.xml\n",
    "\n",
    "import cv2\n",
    "\n",
    "# Import the Haardcase classifier training data for face\n",
    "face_cascade = cv2.CascadeClassifier('Haarcascade_frontalface_default.xml')\n",
    "\n",
    "# Import the Haardcase classifier training data for smile\n",
    "smile_cascade = cv2.CascadeClassifier('Haarcascade_smile.xml')"
   ]
  },
  {
   "cell_type": "code",
   "execution_count": 2,
   "metadata": {},
   "outputs": [],
   "source": [
    "# Defining function that will detect face & eye and draw rectangles\n",
    "# Remember the face detection works best in Gray scale (Gray) & draw rectangle on original (Frame)\n",
    "# Pass parameters like factor to scale down image (say 1.3 for face & 1.7 for smile)\n",
    "# Pass parameters for classification neighbour zones to check (5 for face & 22 works best for smile )\n",
    "# Create a for loop to check the x,y coordinates for top left part \n",
    "# Then draw rectangle around face of width w & height h on original color image in Red color & border thickness 2\n",
    "# Within this face frame focus on region of interest in gray & original color image (roi is region of interest)\n",
    "# Detect & draw rectangles around smile next\n",
    "\n",
    "def detect (gray,frame):\n",
    "    faces=face_cascade.detectMultiScale(gray, 1.3, 5)\n",
    "    \n",
    "    for (x,y,w,h) in faces:\n",
    "        cv2.rectangle(frame, (x,y),(x+w,y+h), (255,0,0),2)\n",
    "        roi_gray=gray[y:y+h, x:x+w]\n",
    "        roi_color=frame[y:y+h, x:x+w]\n",
    "        smile=smile_cascade.detectMultiScale(roi_gray, 1.7, 22)\n",
    "        \n",
    "        for (sx,sy,sw,sh) in smile:\n",
    "            cv2.rectangle(roi_color,(sx,sy),(sx+sw,sy+sh), (0,0,255),2)\n",
    "    return frame\n",
    "\n",
    "# Using webcam to capture image to apply above function\n",
    "# Image used will be last image coming from webcam. 0 if inbuilt webcam of computer, if external webcam then 1\n",
    "# Create a variable object called canvas which will call the detect function & pass gray & frame to it\n",
    "# Show the video & also the face, smile with rectangles identified using imshow method of cv2\n",
    "# Give a while loop to stop if q is input on the keyboard\n",
    "# Release webcam & destroy all windows showing impages\n",
    "# OpenCV has an issue with Mac where the image window does not get destroyed. So pls shutdown kernel\n",
    "video_capture=cv2.VideoCapture(0)\n",
    "\n",
    "while True:\n",
    "    _, frame = video_capture.read()\n",
    "    gray = cv2.cvtColor(frame,cv2.COLOR_BGR2GRAY)\n",
    "    canvas=detect(gray,frame)\n",
    "    cv2.imshow(\"Video\",canvas)\n",
    "    if cv2.waitKey(1) & 0xFF == ord('q'):\n",
    "        break\n",
    "video_capture.release()\n",
    "cv2.destroyAllWindows()"
   ]
  },
  {
   "cell_type": "code",
   "execution_count": null,
   "metadata": {},
   "outputs": [],
   "source": []
  }
 ],
 "metadata": {
  "kernelspec": {
   "display_name": "Python 3",
   "language": "python",
   "name": "python3"
  },
  "language_info": {
   "codemirror_mode": {
    "name": "ipython",
    "version": 3
   },
   "file_extension": ".py",
   "mimetype": "text/x-python",
   "name": "python",
   "nbconvert_exporter": "python",
   "pygments_lexer": "ipython3",
   "version": "3.8.0"
  }
 },
 "nbformat": 4,
 "nbformat_minor": 4
}
